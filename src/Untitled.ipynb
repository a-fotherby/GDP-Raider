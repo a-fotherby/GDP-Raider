{
 "cells": [
  {
   "cell_type": "code",
   "execution_count": 1,
   "metadata": {},
   "outputs": [],
   "source": [
    "import templates"
   ]
  },
  {
   "cell_type": "code",
   "execution_count": 4,
   "metadata": {},
   "outputs": [],
   "source": [
    "template = templates.removal_template('sender', 'reciever', 'angus', ['location data', 'ad data', 'personal data'], ['bigdick69', '07657890654', 'nona@gmail.com'])"
   ]
  },
  {
   "cell_type": "code",
   "execution_count": 5,
   "metadata": {},
   "outputs": [
    {
     "name": "stdout",
     "output_type": "stream",
     "text": [
      "Subject: GDPR Request\n",
      "To: reciever\n",
      "From sender\n",
      "Hello,\n",
      "\n",
      "In accordance with Article 17 of the European General Data Protection Regulation, please proceed to the erasure of my personal data without undue delay.\n",
      "\n",
      "Please delete the following information associated with my accounts:\n",
      "\n",
      "- location data\n",
      "- ad data\n",
      "- personal data\n",
      "\n",
      "Accounts may be associated with the following login credentials.\n",
      "\n",
      "- bigdick69\n",
      "- 07657890654\n",
      "- nona@gmail.com\n",
      "\n",
      "Please confirm when this operation has been completed.\n",
      "\n",
      "Best wishes,\n",
      "\n",
      "angus\n",
      "\n"
     ]
    }
   ],
   "source": [
    "print(template)"
   ]
  },
  {
   "cell_type": "code",
   "execution_count": null,
   "metadata": {},
   "outputs": [],
   "source": []
  }
 ],
 "metadata": {
  "kernelspec": {
   "display_name": "Python 3",
   "language": "python",
   "name": "python3"
  },
  "language_info": {
   "codemirror_mode": {
    "name": "ipython",
    "version": 3
   },
   "file_extension": ".py",
   "mimetype": "text/x-python",
   "name": "python",
   "nbconvert_exporter": "python",
   "pygments_lexer": "ipython3",
   "version": "3.8.7"
  }
 },
 "nbformat": 4,
 "nbformat_minor": 4
}
